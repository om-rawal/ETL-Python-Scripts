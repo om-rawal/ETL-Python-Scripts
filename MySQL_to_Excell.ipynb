{
 "cells": [
  {
   "cell_type": "code",
   "execution_count": 1,
   "id": "b79a63ea",
   "metadata": {},
   "outputs": [],
   "source": [
    "import mysql.connector as connection\n",
    "import pandas as pd"
   ]
  },
  {
   "cell_type": "code",
   "execution_count": 2,
   "id": "a70bc669",
   "metadata": {},
   "outputs": [],
   "source": [
    "sql = \"SELECT * FROM classicmodels.orders;\""
   ]
  },
  {
   "cell_type": "code",
   "execution_count": 3,
   "id": "0cffd953",
   "metadata": {},
   "outputs": [],
   "source": [
    "db=connection.connect(host='localhost',database='classicmodels',user='root',passwd='0000',use_pure=True)\n"
   ]
  },
  {
   "cell_type": "code",
   "execution_count": 4,
   "id": "62cef4cd",
   "metadata": {},
   "outputs": [
    {
     "name": "stderr",
     "output_type": "stream",
     "text": [
      "D:\\Code\\ETL\\ETL-Python-Scripts\\etl_env\\lib\\site-packages\\pandas\\io\\sql.py:761: UserWarning: pandas only support SQLAlchemy connectable(engine/connection) ordatabase string URI or sqlite3 DBAPI2 connectionother DBAPI2 objects are not tested, please consider using SQLAlchemy\n",
      "  warnings.warn(\n"
     ]
    }
   ],
   "source": [
    "df=pd.read_sql(sql,db)"
   ]
  },
  {
   "cell_type": "code",
   "execution_count": 5,
   "id": "05db52f9",
   "metadata": {},
   "outputs": [
    {
     "data": {
      "text/html": [
       "<div>\n",
       "<style scoped>\n",
       "    .dataframe tbody tr th:only-of-type {\n",
       "        vertical-align: middle;\n",
       "    }\n",
       "\n",
       "    .dataframe tbody tr th {\n",
       "        vertical-align: top;\n",
       "    }\n",
       "\n",
       "    .dataframe thead th {\n",
       "        text-align: right;\n",
       "    }\n",
       "</style>\n",
       "<table border=\"1\" class=\"dataframe\">\n",
       "  <thead>\n",
       "    <tr style=\"text-align: right;\">\n",
       "      <th></th>\n",
       "      <th>orderNumber</th>\n",
       "      <th>orderDate</th>\n",
       "      <th>requiredDate</th>\n",
       "      <th>shippedDate</th>\n",
       "      <th>status</th>\n",
       "      <th>comments</th>\n",
       "      <th>customerNumber</th>\n",
       "    </tr>\n",
       "  </thead>\n",
       "  <tbody>\n",
       "    <tr>\n",
       "      <th>0</th>\n",
       "      <td>10100</td>\n",
       "      <td>2003-01-06</td>\n",
       "      <td>2003-01-13</td>\n",
       "      <td>2003-01-10</td>\n",
       "      <td>Shipped</td>\n",
       "      <td>None</td>\n",
       "      <td>363</td>\n",
       "    </tr>\n",
       "    <tr>\n",
       "      <th>1</th>\n",
       "      <td>10101</td>\n",
       "      <td>2003-01-09</td>\n",
       "      <td>2003-01-18</td>\n",
       "      <td>2003-01-11</td>\n",
       "      <td>Shipped</td>\n",
       "      <td>Check on availability.</td>\n",
       "      <td>128</td>\n",
       "    </tr>\n",
       "    <tr>\n",
       "      <th>2</th>\n",
       "      <td>10102</td>\n",
       "      <td>2003-01-10</td>\n",
       "      <td>2003-01-18</td>\n",
       "      <td>2003-01-14</td>\n",
       "      <td>Shipped</td>\n",
       "      <td>None</td>\n",
       "      <td>181</td>\n",
       "    </tr>\n",
       "    <tr>\n",
       "      <th>3</th>\n",
       "      <td>10103</td>\n",
       "      <td>2003-01-29</td>\n",
       "      <td>2003-02-07</td>\n",
       "      <td>2003-02-02</td>\n",
       "      <td>Shipped</td>\n",
       "      <td>None</td>\n",
       "      <td>121</td>\n",
       "    </tr>\n",
       "    <tr>\n",
       "      <th>4</th>\n",
       "      <td>10104</td>\n",
       "      <td>2003-01-31</td>\n",
       "      <td>2003-02-09</td>\n",
       "      <td>2003-02-01</td>\n",
       "      <td>Shipped</td>\n",
       "      <td>None</td>\n",
       "      <td>141</td>\n",
       "    </tr>\n",
       "  </tbody>\n",
       "</table>\n",
       "</div>"
      ],
      "text/plain": [
       "   orderNumber   orderDate requiredDate shippedDate   status  \\\n",
       "0        10100  2003-01-06   2003-01-13  2003-01-10  Shipped   \n",
       "1        10101  2003-01-09   2003-01-18  2003-01-11  Shipped   \n",
       "2        10102  2003-01-10   2003-01-18  2003-01-14  Shipped   \n",
       "3        10103  2003-01-29   2003-02-07  2003-02-02  Shipped   \n",
       "4        10104  2003-01-31   2003-02-09  2003-02-01  Shipped   \n",
       "\n",
       "                 comments  customerNumber  \n",
       "0                    None             363  \n",
       "1  Check on availability.             128  \n",
       "2                    None             181  \n",
       "3                    None             121  \n",
       "4                    None             141  "
      ]
     },
     "execution_count": 5,
     "metadata": {},
     "output_type": "execute_result"
    }
   ],
   "source": [
    "df.head()\n"
   ]
  },
  {
   "cell_type": "code",
   "execution_count": 6,
   "id": "17efc460",
   "metadata": {},
   "outputs": [],
   "source": [
    "# Checking NA in all rows and removing them"
   ]
  },
  {
   "cell_type": "code",
   "execution_count": 7,
   "id": "e3c0676a",
   "metadata": {},
   "outputs": [
    {
     "name": "stdout",
     "output_type": "stream",
     "text": [
      "orderNumber -> 0\n",
      "orderDate -> 0\n",
      "requiredDate -> 0\n",
      "shippedDate -> 14\n",
      "status -> 0\n",
      "comments -> 246\n",
      "customerNumber -> 0\n"
     ]
    }
   ],
   "source": [
    "for column in df.columns:\n",
    "    print(column,\"->\",df[column].isna().sum())"
   ]
  },
  {
   "cell_type": "code",
   "execution_count": 8,
   "id": "c65457a9",
   "metadata": {},
   "outputs": [],
   "source": [
    "df.dropna(inplace=True)"
   ]
  },
  {
   "cell_type": "code",
   "execution_count": 9,
   "id": "082fbe36",
   "metadata": {},
   "outputs": [],
   "source": [
    "# confirming if they are dropped"
   ]
  },
  {
   "cell_type": "code",
   "execution_count": 10,
   "id": "66e2ace9",
   "metadata": {},
   "outputs": [
    {
     "name": "stdout",
     "output_type": "stream",
     "text": [
      "orderNumber -> 0\n",
      "orderDate -> 0\n",
      "requiredDate -> 0\n",
      "shippedDate -> 0\n",
      "status -> 0\n",
      "comments -> 0\n",
      "customerNumber -> 0\n"
     ]
    }
   ],
   "source": [
    "for column in df.columns:\n",
    "    print(column,\"->\",df[column].isna().sum())"
   ]
  },
  {
   "cell_type": "code",
   "execution_count": 11,
   "id": "614f7b1e",
   "metadata": {},
   "outputs": [
    {
     "data": {
      "text/html": [
       "<div>\n",
       "<style scoped>\n",
       "    .dataframe tbody tr th:only-of-type {\n",
       "        vertical-align: middle;\n",
       "    }\n",
       "\n",
       "    .dataframe tbody tr th {\n",
       "        vertical-align: top;\n",
       "    }\n",
       "\n",
       "    .dataframe thead th {\n",
       "        text-align: right;\n",
       "    }\n",
       "</style>\n",
       "<table border=\"1\" class=\"dataframe\">\n",
       "  <thead>\n",
       "    <tr style=\"text-align: right;\">\n",
       "      <th></th>\n",
       "      <th>orderNumber</th>\n",
       "      <th>orderDate</th>\n",
       "      <th>requiredDate</th>\n",
       "      <th>shippedDate</th>\n",
       "      <th>status</th>\n",
       "      <th>comments</th>\n",
       "      <th>customerNumber</th>\n",
       "    </tr>\n",
       "  </thead>\n",
       "  <tbody>\n",
       "    <tr>\n",
       "      <th>1</th>\n",
       "      <td>10101</td>\n",
       "      <td>2003-01-09</td>\n",
       "      <td>2003-01-18</td>\n",
       "      <td>2003-01-11</td>\n",
       "      <td>Shipped</td>\n",
       "      <td>Check on availability.</td>\n",
       "      <td>128</td>\n",
       "    </tr>\n",
       "    <tr>\n",
       "      <th>7</th>\n",
       "      <td>10107</td>\n",
       "      <td>2003-02-24</td>\n",
       "      <td>2003-03-03</td>\n",
       "      <td>2003-02-26</td>\n",
       "      <td>Shipped</td>\n",
       "      <td>Difficult to negotiate with customer. We need ...</td>\n",
       "      <td>131</td>\n",
       "    </tr>\n",
       "    <tr>\n",
       "      <th>9</th>\n",
       "      <td>10109</td>\n",
       "      <td>2003-03-10</td>\n",
       "      <td>2003-03-19</td>\n",
       "      <td>2003-03-11</td>\n",
       "      <td>Shipped</td>\n",
       "      <td>Customer requested that FedEx Ground is used f...</td>\n",
       "      <td>486</td>\n",
       "    </tr>\n",
       "    <tr>\n",
       "      <th>12</th>\n",
       "      <td>10112</td>\n",
       "      <td>2003-03-24</td>\n",
       "      <td>2003-04-03</td>\n",
       "      <td>2003-03-29</td>\n",
       "      <td>Shipped</td>\n",
       "      <td>Customer requested that ad materials (such as ...</td>\n",
       "      <td>144</td>\n",
       "    </tr>\n",
       "    <tr>\n",
       "      <th>18</th>\n",
       "      <td>10118</td>\n",
       "      <td>2003-04-21</td>\n",
       "      <td>2003-04-29</td>\n",
       "      <td>2003-04-26</td>\n",
       "      <td>Shipped</td>\n",
       "      <td>Customer has worked with some of our vendors i...</td>\n",
       "      <td>216</td>\n",
       "    </tr>\n",
       "  </tbody>\n",
       "</table>\n",
       "</div>"
      ],
      "text/plain": [
       "    orderNumber   orderDate requiredDate shippedDate   status  \\\n",
       "1         10101  2003-01-09   2003-01-18  2003-01-11  Shipped   \n",
       "7         10107  2003-02-24   2003-03-03  2003-02-26  Shipped   \n",
       "9         10109  2003-03-10   2003-03-19  2003-03-11  Shipped   \n",
       "12        10112  2003-03-24   2003-04-03  2003-03-29  Shipped   \n",
       "18        10118  2003-04-21   2003-04-29  2003-04-26  Shipped   \n",
       "\n",
       "                                             comments  customerNumber  \n",
       "1                              Check on availability.             128  \n",
       "7   Difficult to negotiate with customer. We need ...             131  \n",
       "9   Customer requested that FedEx Ground is used f...             486  \n",
       "12  Customer requested that ad materials (such as ...             144  \n",
       "18  Customer has worked with some of our vendors i...             216  "
      ]
     },
     "execution_count": 11,
     "metadata": {},
     "output_type": "execute_result"
    }
   ],
   "source": [
    "df.head()"
   ]
  },
  {
   "cell_type": "code",
   "execution_count": 12,
   "id": "9afec996",
   "metadata": {},
   "outputs": [
    {
     "data": {
      "text/plain": [
       "{'Cancelled', 'Disputed', 'Resolved', 'Shipped'}"
      ]
     },
     "execution_count": 12,
     "metadata": {},
     "output_type": "execute_result"
    }
   ],
   "source": [
    "set(df['status'])"
   ]
  },
  {
   "cell_type": "code",
   "execution_count": 13,
   "id": "f84ab625",
   "metadata": {},
   "outputs": [
    {
     "name": "stdout",
     "output_type": "stream",
     "text": [
      "Shipped -> 62\n",
      "Resolved -> 4\n",
      "Disputed -> 3\n",
      "Cancelled -> 2\n"
     ]
    }
   ],
   "source": [
    "for status in set(df['status']):\n",
    "    print(status,\"->\",list(df['status']).count(status))"
   ]
  },
  {
   "cell_type": "code",
   "execution_count": 14,
   "id": "313f1d9a",
   "metadata": {},
   "outputs": [],
   "source": [
    "df.to_excel(\"mysql_data.xlsx\",index=False)"
   ]
  },
  {
   "cell_type": "code",
   "execution_count": 15,
   "id": "d8ae6c33",
   "metadata": {},
   "outputs": [],
   "source": [
    "db.close()"
   ]
  },
  {
   "cell_type": "code",
   "execution_count": null,
   "id": "a1e49b4b",
   "metadata": {},
   "outputs": [],
   "source": []
  }
 ],
 "metadata": {
  "kernelspec": {
   "display_name": "Python 3 (ipykernel)",
   "language": "python",
   "name": "python3"
  },
  "language_info": {
   "codemirror_mode": {
    "name": "ipython",
    "version": 3
   },
   "file_extension": ".py",
   "mimetype": "text/x-python",
   "name": "python",
   "nbconvert_exporter": "python",
   "pygments_lexer": "ipython3",
   "version": "3.10.5"
  }
 },
 "nbformat": 4,
 "nbformat_minor": 5
}
